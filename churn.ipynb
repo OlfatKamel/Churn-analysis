{
 "cells": [
  {
   "cell_type": "code",
   "execution_count": 68,
   "metadata": {},
   "outputs": [
    {
     "name": "stdout",
     "output_type": "stream",
     "text": [
      "\n",
      "The following command must be run outside of the IPython shell:\n",
      "\n",
      "    $ pip install mlxtend\n",
      "\n",
      "The Python package manager (pip) can only be used from outside of IPython.\n",
      "Please reissue the `pip` command in a separate terminal or command prompt.\n",
      "\n",
      "See the Python documentation for more informations on how to install packages:\n",
      "\n",
      "    https://docs.python.org/3/installing/\n"
     ]
    }
   ],
   "source": [
    "pip install mlxtend"
   ]
  },
  {
   "cell_type": "markdown",
   "metadata": {},
   "source": [
    "# import libraries¶\n"
   ]
  },
  {
   "cell_type": "code",
   "execution_count": 111,
   "metadata": {},
   "outputs": [],
   "source": [
    "import numpy as np\n",
    "import pandas as pd\n",
    "import matplotlib.pyplot as plt\n",
    "from sklearn.preprocessing import StandardScaler\n",
    "from sklearn.ensemble import RandomForestClassifier\n",
    "from sklearn.model_selection import train_test_split\n",
    "from sklearn.metrics import confusion_matrix\n",
    "%matplotlib inline\n",
    "\n",
    "plt.style.use('ggplot')\n"
   ]
  },
  {
   "cell_type": "markdown",
   "metadata": {},
   "source": [
    "# load dataset¶\n"
   ]
  },
  {
   "cell_type": "code",
   "execution_count": 8,
   "metadata": {},
   "outputs": [],
   "source": [
    "df_train=pd.read_csv('dataset/churn_train.csv')\n",
    "\n"
   ]
  },
  {
   "cell_type": "markdown",
   "metadata": {},
   "source": [
    "# exploring data¶\n"
   ]
  },
  {
   "cell_type": "code",
   "execution_count": 9,
   "metadata": {},
   "outputs": [
    {
     "data": {
      "text/plain": [
       "(1397, 16)"
      ]
     },
     "execution_count": 9,
     "metadata": {},
     "output_type": "execute_result"
    }
   ],
   "source": [
    "df_train.shape\n"
   ]
  },
  {
   "cell_type": "code",
   "execution_count": 10,
   "metadata": {},
   "outputs": [
    {
     "name": "stdout",
     "output_type": "stream",
     "text": [
      "<class 'pandas.core.frame.DataFrame'>\n",
      "RangeIndex: 1397 entries, 0 to 1396\n",
      "Data columns (total 16 columns):\n",
      "Customer ID                                    1397 non-null object\n",
      "network_age                                    1397 non-null int64\n",
      "Customer tenure in month                       1397 non-null float64\n",
      "Total Spend in Months 1 and 2 of 2017          1397 non-null float64\n",
      "Total SMS Spend                                1397 non-null float64\n",
      "Total Data Spend                               1397 non-null float64\n",
      "Total Data Consumption                         1397 non-null float64\n",
      "Total Unique Calls                             1397 non-null int64\n",
      "Total Onnet spend                              1397 non-null int64\n",
      "Total Offnet spend                             1397 non-null int64\n",
      "Total Call centre complaint calls              1397 non-null int64\n",
      "Network type subscription in Month 1           1397 non-null int64\n",
      "Network type subscription in Month 2           1397 non-null int64\n",
      "Most Loved Competitor network in in Month 1    1397 non-null int64\n",
      "Most Loved Competitor network in in Month 2    1397 non-null int64\n",
      "Churn Status                                   1397 non-null int64\n",
      "dtypes: float64(5), int64(10), object(1)\n",
      "memory usage: 174.7+ KB\n"
     ]
    }
   ],
   "source": [
    "df_train.info()"
   ]
  },
  {
   "cell_type": "code",
   "execution_count": 11,
   "metadata": {},
   "outputs": [
    {
     "data": {
      "text/html": [
       "<div>\n",
       "<style scoped>\n",
       "    .dataframe tbody tr th:only-of-type {\n",
       "        vertical-align: middle;\n",
       "    }\n",
       "\n",
       "    .dataframe tbody tr th {\n",
       "        vertical-align: top;\n",
       "    }\n",
       "\n",
       "    .dataframe thead th {\n",
       "        text-align: right;\n",
       "    }\n",
       "</style>\n",
       "<table border=\"1\" class=\"dataframe\">\n",
       "  <thead>\n",
       "    <tr style=\"text-align: right;\">\n",
       "      <th></th>\n",
       "      <th>Customer ID</th>\n",
       "      <th>network_age</th>\n",
       "      <th>Customer tenure in month</th>\n",
       "      <th>Total Spend in Months 1 and 2 of 2017</th>\n",
       "      <th>Total SMS Spend</th>\n",
       "      <th>Total Data Spend</th>\n",
       "      <th>Total Data Consumption</th>\n",
       "      <th>Total Unique Calls</th>\n",
       "      <th>Total Onnet spend</th>\n",
       "      <th>Total Offnet spend</th>\n",
       "      <th>Total Call centre complaint calls</th>\n",
       "      <th>Network type subscription in Month 1</th>\n",
       "      <th>Network type subscription in Month 2</th>\n",
       "      <th>Most Loved Competitor network in in Month 1</th>\n",
       "      <th>Most Loved Competitor network in in Month 2</th>\n",
       "      <th>Churn Status</th>\n",
       "    </tr>\n",
       "  </thead>\n",
       "  <tbody>\n",
       "    <tr>\n",
       "      <th>361</th>\n",
       "      <td>ADF0516</td>\n",
       "      <td>3265</td>\n",
       "      <td>108.83</td>\n",
       "      <td>208.5608</td>\n",
       "      <td>23.49</td>\n",
       "      <td>2.50</td>\n",
       "      <td>2.792970e+01</td>\n",
       "      <td>16</td>\n",
       "      <td>0</td>\n",
       "      <td>11457</td>\n",
       "      <td>1</td>\n",
       "      <td>0</td>\n",
       "      <td>0</td>\n",
       "      <td>1</td>\n",
       "      <td>2</td>\n",
       "      <td>1</td>\n",
       "    </tr>\n",
       "    <tr>\n",
       "      <th>40</th>\n",
       "      <td>ADF0078</td>\n",
       "      <td>3418</td>\n",
       "      <td>113.93</td>\n",
       "      <td>61.7884</td>\n",
       "      <td>23.90</td>\n",
       "      <td>18.75</td>\n",
       "      <td>8.933828e+02</td>\n",
       "      <td>3</td>\n",
       "      <td>0</td>\n",
       "      <td>681</td>\n",
       "      <td>1</td>\n",
       "      <td>0</td>\n",
       "      <td>0</td>\n",
       "      <td>1</td>\n",
       "      <td>1</td>\n",
       "      <td>1</td>\n",
       "    </tr>\n",
       "    <tr>\n",
       "      <th>1242</th>\n",
       "      <td>ADF1798</td>\n",
       "      <td>1212</td>\n",
       "      <td>40.40</td>\n",
       "      <td>1494.8088</td>\n",
       "      <td>4.37</td>\n",
       "      <td>22.50</td>\n",
       "      <td>4.970059e+06</td>\n",
       "      <td>397</td>\n",
       "      <td>3454</td>\n",
       "      <td>4918</td>\n",
       "      <td>4</td>\n",
       "      <td>2</td>\n",
       "      <td>2</td>\n",
       "      <td>3</td>\n",
       "      <td>5</td>\n",
       "      <td>1</td>\n",
       "    </tr>\n",
       "    <tr>\n",
       "      <th>162</th>\n",
       "      <td>ADF0317</td>\n",
       "      <td>109</td>\n",
       "      <td>3.63</td>\n",
       "      <td>487.4000</td>\n",
       "      <td>3.50</td>\n",
       "      <td>45.00</td>\n",
       "      <td>5.264283e+04</td>\n",
       "      <td>33</td>\n",
       "      <td>120</td>\n",
       "      <td>0</td>\n",
       "      <td>3</td>\n",
       "      <td>0</td>\n",
       "      <td>2</td>\n",
       "      <td>6</td>\n",
       "      <td>2</td>\n",
       "      <td>0</td>\n",
       "    </tr>\n",
       "    <tr>\n",
       "      <th>1025</th>\n",
       "      <td>ADF1581</td>\n",
       "      <td>3702</td>\n",
       "      <td>123.40</td>\n",
       "      <td>65.4980</td>\n",
       "      <td>33.23</td>\n",
       "      <td>1.55</td>\n",
       "      <td>1.142627e+02</td>\n",
       "      <td>6</td>\n",
       "      <td>895</td>\n",
       "      <td>0</td>\n",
       "      <td>1</td>\n",
       "      <td>0</td>\n",
       "      <td>0</td>\n",
       "      <td>5</td>\n",
       "      <td>5</td>\n",
       "      <td>1</td>\n",
       "    </tr>\n",
       "    <tr>\n",
       "      <th>161</th>\n",
       "      <td>ADF0316</td>\n",
       "      <td>418</td>\n",
       "      <td>13.93</td>\n",
       "      <td>480.3660</td>\n",
       "      <td>1.75</td>\n",
       "      <td>52.50</td>\n",
       "      <td>2.362759e+07</td>\n",
       "      <td>3</td>\n",
       "      <td>0</td>\n",
       "      <td>509</td>\n",
       "      <td>1</td>\n",
       "      <td>2</td>\n",
       "      <td>2</td>\n",
       "      <td>2</td>\n",
       "      <td>2</td>\n",
       "      <td>0</td>\n",
       "    </tr>\n",
       "    <tr>\n",
       "      <th>154</th>\n",
       "      <td>ADF0309</td>\n",
       "      <td>1070</td>\n",
       "      <td>35.67</td>\n",
       "      <td>427.3776</td>\n",
       "      <td>1.75</td>\n",
       "      <td>26.25</td>\n",
       "      <td>1.684506e+04</td>\n",
       "      <td>176</td>\n",
       "      <td>5263</td>\n",
       "      <td>7771</td>\n",
       "      <td>2</td>\n",
       "      <td>1</td>\n",
       "      <td>2</td>\n",
       "      <td>2</td>\n",
       "      <td>2</td>\n",
       "      <td>0</td>\n",
       "    </tr>\n",
       "    <tr>\n",
       "      <th>139</th>\n",
       "      <td>ADF0294</td>\n",
       "      <td>215</td>\n",
       "      <td>7.17</td>\n",
       "      <td>316.0600</td>\n",
       "      <td>12.25</td>\n",
       "      <td>91.25</td>\n",
       "      <td>2.058715e+07</td>\n",
       "      <td>3</td>\n",
       "      <td>114</td>\n",
       "      <td>358</td>\n",
       "      <td>1</td>\n",
       "      <td>2</td>\n",
       "      <td>2</td>\n",
       "      <td>2</td>\n",
       "      <td>2</td>\n",
       "      <td>0</td>\n",
       "    </tr>\n",
       "    <tr>\n",
       "      <th>77</th>\n",
       "      <td>ADF0115</td>\n",
       "      <td>2826</td>\n",
       "      <td>94.20</td>\n",
       "      <td>792.6188</td>\n",
       "      <td>13.04</td>\n",
       "      <td>5.89</td>\n",
       "      <td>7.235527e+02</td>\n",
       "      <td>131</td>\n",
       "      <td>15682</td>\n",
       "      <td>43586</td>\n",
       "      <td>3</td>\n",
       "      <td>0</td>\n",
       "      <td>0</td>\n",
       "      <td>4</td>\n",
       "      <td>1</td>\n",
       "      <td>1</td>\n",
       "    </tr>\n",
       "    <tr>\n",
       "      <th>253</th>\n",
       "      <td>ADF0408</td>\n",
       "      <td>1028</td>\n",
       "      <td>34.27</td>\n",
       "      <td>56.1220</td>\n",
       "      <td>7.17</td>\n",
       "      <td>42.50</td>\n",
       "      <td>3.944536e+03</td>\n",
       "      <td>2</td>\n",
       "      <td>0</td>\n",
       "      <td>358</td>\n",
       "      <td>1</td>\n",
       "      <td>1</td>\n",
       "      <td>1</td>\n",
       "      <td>2</td>\n",
       "      <td>2</td>\n",
       "      <td>1</td>\n",
       "    </tr>\n",
       "  </tbody>\n",
       "</table>\n",
       "</div>"
      ],
      "text/plain": [
       "     Customer ID  network_age  Customer tenure in month  \\\n",
       "361      ADF0516         3265                    108.83   \n",
       "40       ADF0078         3418                    113.93   \n",
       "1242     ADF1798         1212                     40.40   \n",
       "162      ADF0317          109                      3.63   \n",
       "1025     ADF1581         3702                    123.40   \n",
       "161      ADF0316          418                     13.93   \n",
       "154      ADF0309         1070                     35.67   \n",
       "139      ADF0294          215                      7.17   \n",
       "77       ADF0115         2826                     94.20   \n",
       "253      ADF0408         1028                     34.27   \n",
       "\n",
       "      Total Spend in Months 1 and 2 of 2017  Total SMS Spend  \\\n",
       "361                                208.5608            23.49   \n",
       "40                                  61.7884            23.90   \n",
       "1242                              1494.8088             4.37   \n",
       "162                                487.4000             3.50   \n",
       "1025                                65.4980            33.23   \n",
       "161                                480.3660             1.75   \n",
       "154                                427.3776             1.75   \n",
       "139                                316.0600            12.25   \n",
       "77                                 792.6188            13.04   \n",
       "253                                 56.1220             7.17   \n",
       "\n",
       "      Total Data Spend  Total Data Consumption  Total Unique Calls  \\\n",
       "361               2.50            2.792970e+01                  16   \n",
       "40               18.75            8.933828e+02                   3   \n",
       "1242             22.50            4.970059e+06                 397   \n",
       "162              45.00            5.264283e+04                  33   \n",
       "1025              1.55            1.142627e+02                   6   \n",
       "161              52.50            2.362759e+07                   3   \n",
       "154              26.25            1.684506e+04                 176   \n",
       "139              91.25            2.058715e+07                   3   \n",
       "77                5.89            7.235527e+02                 131   \n",
       "253              42.50            3.944536e+03                   2   \n",
       "\n",
       "      Total Onnet spend   Total Offnet spend  \\\n",
       "361                    0               11457   \n",
       "40                     0                 681   \n",
       "1242                3454                4918   \n",
       "162                  120                   0   \n",
       "1025                 895                   0   \n",
       "161                    0                 509   \n",
       "154                 5263                7771   \n",
       "139                  114                 358   \n",
       "77                 15682               43586   \n",
       "253                    0                 358   \n",
       "\n",
       "      Total Call centre complaint calls  Network type subscription in Month 1  \\\n",
       "361                                   1                                     0   \n",
       "40                                    1                                     0   \n",
       "1242                                  4                                     2   \n",
       "162                                   3                                     0   \n",
       "1025                                  1                                     0   \n",
       "161                                   1                                     2   \n",
       "154                                   2                                     1   \n",
       "139                                   1                                     2   \n",
       "77                                    3                                     0   \n",
       "253                                   1                                     1   \n",
       "\n",
       "      Network type subscription in Month 2  \\\n",
       "361                                      0   \n",
       "40                                       0   \n",
       "1242                                     2   \n",
       "162                                      2   \n",
       "1025                                     0   \n",
       "161                                      2   \n",
       "154                                      2   \n",
       "139                                      2   \n",
       "77                                       0   \n",
       "253                                      1   \n",
       "\n",
       "      Most Loved Competitor network in in Month 1  \\\n",
       "361                                             1   \n",
       "40                                              1   \n",
       "1242                                            3   \n",
       "162                                             6   \n",
       "1025                                            5   \n",
       "161                                             2   \n",
       "154                                             2   \n",
       "139                                             2   \n",
       "77                                              4   \n",
       "253                                             2   \n",
       "\n",
       "      Most Loved Competitor network in in Month 2  Churn Status  \n",
       "361                                             2             1  \n",
       "40                                              1             1  \n",
       "1242                                            5             1  \n",
       "162                                             2             0  \n",
       "1025                                            5             1  \n",
       "161                                             2             0  \n",
       "154                                             2             0  \n",
       "139                                             2             0  \n",
       "77                                              1             1  \n",
       "253                                             2             1  "
      ]
     },
     "execution_count": 11,
     "metadata": {},
     "output_type": "execute_result"
    }
   ],
   "source": [
    "df_train.sample(10)\n"
   ]
  },
  {
   "cell_type": "markdown",
   "metadata": {},
   "source": [
    "# cleaning data¶\n"
   ]
  },
  {
   "cell_type": "code",
   "execution_count": 12,
   "metadata": {},
   "outputs": [
    {
     "data": {
      "text/plain": [
       "Customer ID                                    0\n",
       "network_age                                    0\n",
       "Customer tenure in month                       0\n",
       "Total Spend in Months 1 and 2 of 2017          0\n",
       "Total SMS Spend                                0\n",
       "Total Data Spend                               0\n",
       "Total Data Consumption                         0\n",
       "Total Unique Calls                             0\n",
       "Total Onnet spend                              0\n",
       "Total Offnet spend                             0\n",
       "Total Call centre complaint calls              0\n",
       "Network type subscription in Month 1           0\n",
       "Network type subscription in Month 2           0\n",
       "Most Loved Competitor network in in Month 1    0\n",
       "Most Loved Competitor network in in Month 2    0\n",
       "Churn Status                                   0\n",
       "dtype: int64"
      ]
     },
     "execution_count": 12,
     "metadata": {},
     "output_type": "execute_result"
    }
   ],
   "source": [
    "# check no. fo nulls in columns\n",
    "df_train.isnull().sum()"
   ]
  },
  {
   "cell_type": "code",
   "execution_count": 13,
   "metadata": {},
   "outputs": [],
   "source": [
    "#remove columns spaces\n",
    "df_train.columns=df_train.columns.str.replace(' ','')\n"
   ]
  },
  {
   "cell_type": "code",
   "execution_count": 14,
   "metadata": {},
   "outputs": [
    {
     "data": {
      "text/plain": [
       "Index(['CustomerID', 'network_age', 'Customertenureinmonth',\n",
       "       'TotalSpendinMonths1and2of2017', 'TotalSMSSpend', 'TotalDataSpend',\n",
       "       'TotalDataConsumption', 'TotalUniqueCalls', 'TotalOnnetspend',\n",
       "       'TotalOffnetspend', 'TotalCallcentrecomplaintcalls',\n",
       "       'NetworktypesubscriptioninMonth1', 'NetworktypesubscriptioninMonth2',\n",
       "       'MostLovedCompetitornetworkininMonth1',\n",
       "       'MostLovedCompetitornetworkininMonth2', 'ChurnStatus'],\n",
       "      dtype='object')"
      ]
     },
     "execution_count": 14,
     "metadata": {},
     "output_type": "execute_result"
    }
   ],
   "source": [
    "df_train.columns"
   ]
  },
  {
   "cell_type": "code",
   "execution_count": 27,
   "metadata": {},
   "outputs": [
    {
     "data": {
      "text/plain": [
       "ChurnStatus                           ChurnStatus                             1.000000\n",
       "MostLovedCompetitornetworkininMonth2  MostLovedCompetitornetworkininMonth2    1.000000\n",
       "Customertenureinmonth                 Customertenureinmonth                   1.000000\n",
       "TotalSpendinMonths1and2of2017         TotalSpendinMonths1and2of2017           1.000000\n",
       "TotalSMSSpend                         TotalSMSSpend                           1.000000\n",
       "TotalDataSpend                        TotalDataSpend                          1.000000\n",
       "TotalDataConsumption                  TotalDataConsumption                    1.000000\n",
       "TotalUniqueCalls                      TotalUniqueCalls                        1.000000\n",
       "TotalOffnetspend                      TotalOffnetspend                        1.000000\n",
       "TotalCallcentrecomplaintcalls         TotalCallcentrecomplaintcalls           1.000000\n",
       "NetworktypesubscriptioninMonth1       NetworktypesubscriptioninMonth1         1.000000\n",
       "NetworktypesubscriptioninMonth2       NetworktypesubscriptioninMonth2         1.000000\n",
       "MostLovedCompetitornetworkininMonth1  MostLovedCompetitornetworkininMonth1    1.000000\n",
       "TotalOnnetspend                       TotalOnnetspend                         1.000000\n",
       "network_age                           network_age                             1.000000\n",
       "                                      Customertenureinmonth                   1.000000\n",
       "Customertenureinmonth                 network_age                             1.000000\n",
       "NetworktypesubscriptioninMonth1       NetworktypesubscriptioninMonth2         0.825519\n",
       "NetworktypesubscriptioninMonth2       NetworktypesubscriptioninMonth1         0.825519\n",
       "TotalOffnetspend                      TotalSpendinMonths1and2of2017           0.743769\n",
       "TotalSpendinMonths1and2of2017         TotalOffnetspend                        0.743769\n",
       "                                      TotalDataSpend                          0.664388\n",
       "TotalDataSpend                        TotalSpendinMonths1and2of2017           0.664388\n",
       "TotalUniqueCalls                      TotalSpendinMonths1and2of2017           0.578828\n",
       "TotalSpendinMonths1and2of2017         TotalUniqueCalls                        0.578828\n",
       "TotalOffnetspend                      TotalUniqueCalls                        0.522985\n",
       "TotalUniqueCalls                      TotalOffnetspend                        0.522985\n",
       "TotalOnnetspend                       TotalOffnetspend                        0.480814\n",
       "TotalOffnetspend                      TotalOnnetspend                         0.480814\n",
       "TotalOnnetspend                       TotalSpendinMonths1and2of2017           0.444001\n",
       "                                                                                ...   \n",
       "TotalCallcentrecomplaintcalls         TotalDataConsumption                    0.025807\n",
       "TotalDataConsumption                  TotalCallcentrecomplaintcalls           0.025807\n",
       "TotalCallcentrecomplaintcalls         TotalSMSSpend                           0.020126\n",
       "TotalSMSSpend                         TotalCallcentrecomplaintcalls           0.020126\n",
       "MostLovedCompetitornetworkininMonth1  network_age                             0.019879\n",
       "network_age                           MostLovedCompetitornetworkininMonth1    0.019879\n",
       "Customertenureinmonth                 MostLovedCompetitornetworkininMonth1    0.019878\n",
       "MostLovedCompetitornetworkininMonth1  Customertenureinmonth                   0.019878\n",
       "                                      TotalSMSSpend                           0.019380\n",
       "TotalSMSSpend                         MostLovedCompetitornetworkininMonth1    0.019380\n",
       "NetworktypesubscriptioninMonth1       TotalOnnetspend                         0.018847\n",
       "TotalOnnetspend                       NetworktypesubscriptioninMonth1         0.018847\n",
       "network_age                           TotalOnnetspend                         0.017643\n",
       "TotalOnnetspend                       network_age                             0.017643\n",
       "                                      Customertenureinmonth                   0.017642\n",
       "Customertenureinmonth                 TotalOnnetspend                         0.017642\n",
       "MostLovedCompetitornetworkininMonth1  TotalCallcentrecomplaintcalls           0.012692\n",
       "TotalCallcentrecomplaintcalls         MostLovedCompetitornetworkininMonth1    0.012692\n",
       "TotalOnnetspend                       ChurnStatus                             0.009020\n",
       "ChurnStatus                           TotalOnnetspend                         0.009020\n",
       "MostLovedCompetitornetworkininMonth2  TotalDataConsumption                    0.008834\n",
       "TotalDataConsumption                  MostLovedCompetitornetworkininMonth2    0.008834\n",
       "MostLovedCompetitornetworkininMonth1  TotalDataSpend                          0.008304\n",
       "TotalDataSpend                        MostLovedCompetitornetworkininMonth1    0.008304\n",
       "MostLovedCompetitornetworkininMonth1  TotalOffnetspend                        0.007703\n",
       "TotalOffnetspend                      MostLovedCompetitornetworkininMonth1    0.007703\n",
       "TotalUniqueCalls                      TotalDataConsumption                    0.007447\n",
       "TotalDataConsumption                  TotalUniqueCalls                        0.007447\n",
       "TotalOffnetspend                      TotalDataConsumption                    0.004930\n",
       "TotalDataConsumption                  TotalOffnetspend                        0.004930\n",
       "Length: 225, dtype: float64"
      ]
     },
     "execution_count": 27,
     "metadata": {},
     "output_type": "execute_result"
    }
   ],
   "source": [
    "# find the correlation between coumns\n",
    "corr_abs = df_train.corr().abs().stack().sort_values(ascending=False)\n",
    "corr_abs"
   ]
  },
  {
   "cell_type": "code",
   "execution_count": 29,
   "metadata": {},
   "outputs": [],
   "source": [
    "#drop some columns\n",
    "drop_col = ['TotalSMSSpend', 'TotalDataSpend', 'TotalDataConsumption', 'TotalUniqueCalls']\n",
    "\n",
    "df_train=df_train.drop(drop_col, axis=1)\n"
   ]
  },
  {
   "cell_type": "code",
   "execution_count": 40,
   "metadata": {},
   "outputs": [
    {
     "data": {
      "text/plain": [
       "array([[<matplotlib.axes._subplots.AxesSubplot object at 0x000002AECFA9BBA8>,\n",
       "        <matplotlib.axes._subplots.AxesSubplot object at 0x000002AECFC324A8>,\n",
       "        <matplotlib.axes._subplots.AxesSubplot object at 0x000002AECFC655F8>],\n",
       "       [<matplotlib.axes._subplots.AxesSubplot object at 0x000002AECFC9C7B8>,\n",
       "        <matplotlib.axes._subplots.AxesSubplot object at 0x000002AECFCD6898>,\n",
       "        <matplotlib.axes._subplots.AxesSubplot object at 0x000002AECFCD68D0>],\n",
       "       [<matplotlib.axes._subplots.AxesSubplot object at 0x000002AECFD3F6A0>,\n",
       "        <matplotlib.axes._subplots.AxesSubplot object at 0x000002AECFD7A780>,\n",
       "        <matplotlib.axes._subplots.AxesSubplot object at 0x000002AECFDB0940>],\n",
       "       [<matplotlib.axes._subplots.AxesSubplot object at 0x000002AECFDC72E8>,\n",
       "        <matplotlib.axes._subplots.AxesSubplot object at 0x000002AECF7BB550>,\n",
       "        <matplotlib.axes._subplots.AxesSubplot object at 0x000002AECFE30748>]],\n",
       "      dtype=object)"
      ]
     },
     "execution_count": 40,
     "metadata": {},
     "output_type": "execute_result"
    },
    {
     "data": {
      "image/png": "[encoded data removed]",
      "text/plain": [
       "<matplotlib.figure.Figure at 0x2aecfa7b630>"
      ]
     },
     "metadata": {},
     "output_type": "display_data"
    }
   ],
   "source": [
    "df_train.hist(figsize=(20,10))"
   ]
  },
  {
   "cell_type": "code",
   "execution_count": 86,
   "metadata": {},
   "outputs": [
    {
     "data": {
      "text/plain": [
       "array([0, 0, 0, ..., 1, 1, 1], dtype=int64)"
      ]
     },
     "execution_count": 86,
     "metadata": {},
     "output_type": "execute_result"
    }
   ],
   "source": [
    "# spare the features\n",
    "lables = df_train['ChurnStatus'].values\n",
    "lables"
   ]
  },
  {
   "cell_type": "code",
   "execution_count": 87,
   "metadata": {},
   "outputs": [
    {
     "data": {
      "text/plain": [
       "array([[1.1700000e+02, 3.9000000e+00, 4.9670000e+01, ..., 2.0000000e+00,\n",
       "        1.0000000e+00, 1.0000000e+00],\n",
       "       [1.2300000e+02, 4.1000000e+00, 7.6714000e+01, ..., 1.0000000e+00,\n",
       "        5.0000000e+00, 1.0000000e+00],\n",
       "       [1.3420000e+03, 4.4730000e+01, 7.6920000e+01, ..., 2.0000000e+00,\n",
       "        3.0000000e+00, 1.0000000e+00],\n",
       "       ...,\n",
       "       [3.4500000e+02, 1.1500000e+01, 1.6592812e+03, ..., 2.0000000e+00,\n",
       "        5.0000000e+00, 3.0000000e+00],\n",
       "       [1.2720000e+03, 4.2400000e+01, 1.9326000e+03, ..., 2.0000000e+00,\n",
       "        3.0000000e+00, 3.0000000e+00],\n",
       "       [1.2500000e+02, 4.1700000e+00, 2.1386992e+03, ..., 1.0000000e+00,\n",
       "        6.0000000e+00, 3.0000000e+00]])"
      ]
     },
     "execution_count": 87,
     "metadata": {},
     "output_type": "execute_result"
    }
   ],
   "source": [
    "# spare the features \n",
    "features = df_train.loc[:, df_train.columns != 'ChurnStatus'].values\n",
    "features"
   ]
  },
  {
   "cell_type": "markdown",
   "metadata": {},
   "source": [
    "# Standerdize the data"
   ]
  },
  {
   "cell_type": "code",
   "execution_count": 88,
   "metadata": {},
   "outputs": [],
   "source": [
    "# standrize the values\n",
    "scaler = StandardScaler()\n",
    "features = scaler.fit_transform(features)"
   ]
  },
  {
   "cell_type": "code",
   "execution_count": 89,
   "metadata": {},
   "outputs": [
    {
     "data": {
      "text/plain": [
       "array([[-1.04545563, -1.04545754, -0.6030993 , ...,  0.93188645,\n",
       "        -1.31852018, -1.96473316],\n",
       "       [-1.04075427, -1.04075617, -0.58138874, ..., -0.21309629,\n",
       "         0.90139268, -1.96473316],\n",
       "       [-0.08559429, -0.08567295, -0.58122337, ...,  0.93188645,\n",
       "        -0.20856375, -1.96473316],\n",
       "       ...,\n",
       "       [-0.86680389, -0.8668055 ,  0.68907499, ...,  0.93188645,\n",
       "         0.90139268, -0.65428569],\n",
       "       [-0.14044351, -0.14044391,  0.90849166, ...,  0.93188645,\n",
       "        -0.20856375, -0.65428569],\n",
       "       [-1.03918715, -1.03911069,  1.07394533, ..., -0.21309629,\n",
       "         1.45637089, -0.65428569]])"
      ]
     },
     "execution_count": 89,
     "metadata": {},
     "output_type": "execute_result"
    }
   ],
   "source": [
    "features"
   ]
  },
  {
   "cell_type": "code",
   "execution_count": 104,
   "metadata": {},
   "outputs": [],
   "source": [
    "\n",
    "X_train, X_test, y_train, y_test = train_test_split(features, lables, test_size=0.20)\n"
   ]
  },
  {
   "cell_type": "code",
   "execution_count": null,
   "metadata": {},
   "outputs": [],
   "source": []
  },
  {
   "cell_type": "code",
   "execution_count": 105,
   "metadata": {},
   "outputs": [],
   "source": [
    "clf = RandomForestClassifier(n_estimators=1)\n",
    "clf = clf.fit(X_train, y_train)"
   ]
  },
  {
   "cell_type": "markdown",
   "metadata": {},
   "source": [
    "# accuracy for training"
   ]
  },
  {
   "cell_type": "code",
   "execution_count": 106,
   "metadata": {},
   "outputs": [
    {
     "name": "stdout",
     "output_type": "stream",
     "text": [
      "89.61504028648164\n"
     ]
    }
   ],
   "source": [
    "\n",
    "accuracy = clf.score(X_train, y_train)\n",
    "print (accuracy*100)"
   ]
  },
  {
   "cell_type": "markdown",
   "metadata": {},
   "source": [
    "# accuracy for testing"
   ]
  },
  {
   "cell_type": "code",
   "execution_count": 107,
   "metadata": {},
   "outputs": [
    {
     "name": "stdout",
     "output_type": "stream",
     "text": [
      "65.71428571428571\n"
     ]
    }
   ],
   "source": [
    "accuracy = clf.score(X_test, y_test)\n",
    "print (accuracy*100)"
   ]
  },
  {
   "cell_type": "markdown",
   "metadata": {},
   "source": [
    "# Training classification report and confusion_matrix"
   ]
  },
  {
   "cell_type": "code",
   "execution_count": 110,
   "metadata": {},
   "outputs": [
    {
     "name": "stdout",
     "output_type": "stream",
     "text": [
      "             precision    recall  f1-score   support\n",
      "\n",
      "          0       0.89      0.91      0.90       561\n",
      "          1       0.90      0.88      0.89       556\n",
      "\n",
      "avg / total       0.90      0.90      0.90      1117\n",
      "\n"
     ]
    }
   ],
   "source": [
    "from sklearn.metrics import classification_report\n",
    "from sklearn.metrics import confusion_matrix\n",
    "\n",
    "ypredict = clf.predict(X_train)\n",
    "print  (classification_report(y_train, ypredict))"
   ]
  },
  {
   "cell_type": "code",
   "execution_count": 109,
   "metadata": {},
   "outputs": [
    {
     "name": "stdout",
     "output_type": "stream",
     "text": [
      "[[509  52]\n",
      " [ 64 492]]\n"
     ]
    }
   ],
   "source": [
    "print (confusion_matrix(y_train, ypredict))\n"
   ]
  },
  {
   "cell_type": "markdown",
   "metadata": {},
   "source": []
  },
  {
   "cell_type": "code",
   "execution_count": 118,
   "metadata": {},
   "outputs": [],
   "source": [
    "df_test=pd.read_csv('dataset/churn_test.csv')"
   ]
  },
  {
   "cell_type": "code",
   "execution_count": 130,
   "metadata": {},
   "outputs": [],
   "source": [
    "#drop some columns\n",
    "drop_col = ['Total SMS Spend', 'Total Data Spend', 'Total Data Consumption', 'Total Unique Calls']\n",
    "\n",
    "df_test=df_test.drop(drop_col, axis=1)"
   ]
  },
  {
   "cell_type": "code",
   "execution_count": 137,
   "metadata": {},
   "outputs": [],
   "source": [
    "# spare the features \n",
    "df_test = df_test.drop(columns=['Customer ID'])\n"
   ]
  },
  {
   "cell_type": "code",
   "execution_count": 126,
   "metadata": {},
   "outputs": [],
   "source": [
    "features = df_train.loc[:, df_train.columns != 'ChurnStatus'].values"
   ]
  },
  {
   "cell_type": "code",
   "execution_count": 141,
   "metadata": {},
   "outputs": [
    {
     "data": {
      "text/plain": [
       "array([[-0.20047388, -0.20047388, -0.75102645, ...,  0.57991628,\n",
       "        -0.1909309 , -2.12628661],\n",
       "       [-0.67589998, -0.67589998, -1.0384652 , ...,  0.57991628,\n",
       "        -0.1909309 , -2.12628661],\n",
       "       [-0.70108306, -0.70108306, -0.89844289, ...,  0.57991628,\n",
       "        -0.1909309 , -2.12628661],\n",
       "       ...,\n",
       "       [-1.0620406 , -1.0620406 , -1.05522393, ..., -1.72438683,\n",
       "        -1.87561536, -0.06193068],\n",
       "       [-0.03792852, -0.03792852,  0.43637533, ..., -1.72438683,\n",
       "        -1.87561536, -0.06193068],\n",
       "       [-1.05746186, -1.05746186,  0.3670222 , ..., -1.72438683,\n",
       "        -1.87561536, -0.75004932]])"
      ]
     },
     "execution_count": 141,
     "metadata": {},
     "output_type": "execute_result"
    }
   ],
   "source": [
    "# standrize the values\n",
    "scaler = StandardScaler()\n",
    "features_test = scaler.fit_transform(features_test)\n"
   ]
  },
  {
   "cell_type": "code",
   "execution_count": 142,
   "metadata": {},
   "outputs": [],
   "source": [
    "mydf = pd.read_csv('dataset/churn_test.csv')"
   ]
  },
  {
   "cell_type": "code",
   "execution_count": 138,
   "metadata": {},
   "outputs": [
    {
     "data": {
      "text/html": [
       "<div>\n",
       "<style scoped>\n",
       "    .dataframe tbody tr th:only-of-type {\n",
       "        vertical-align: middle;\n",
       "    }\n",
       "\n",
       "    .dataframe tbody tr th {\n",
       "        vertical-align: top;\n",
       "    }\n",
       "\n",
       "    .dataframe thead th {\n",
       "        text-align: right;\n",
       "    }\n",
       "</style>\n",
       "<table border=\"1\" class=\"dataframe\">\n",
       "  <thead>\n",
       "    <tr style=\"text-align: right;\">\n",
       "      <th></th>\n",
       "      <th>network_age</th>\n",
       "      <th>Customer tenure in month</th>\n",
       "      <th>Total Spend in Months 1 and 2 of 2017</th>\n",
       "      <th>Total Onnet spend</th>\n",
       "      <th>Total Offnet spend</th>\n",
       "      <th>Total Call centre complaint calls</th>\n",
       "      <th>Network type subscription in Month 1</th>\n",
       "      <th>Network type subscription in Month 2</th>\n",
       "      <th>Most Loved Competitor network in in Month 1</th>\n",
       "      <th>Most Loved Competitor network in in Month 2</th>\n",
       "    </tr>\n",
       "  </thead>\n",
       "  <tbody>\n",
       "    <tr>\n",
       "      <th>0</th>\n",
       "      <td>1251</td>\n",
       "      <td>41.700000</td>\n",
       "      <td>514.8840</td>\n",
       "      <td>708</td>\n",
       "      <td>38807</td>\n",
       "      <td>1</td>\n",
       "      <td>1</td>\n",
       "      <td>1</td>\n",
       "      <td>3</td>\n",
       "      <td>1</td>\n",
       "    </tr>\n",
       "    <tr>\n",
       "      <th>1</th>\n",
       "      <td>628</td>\n",
       "      <td>20.933333</td>\n",
       "      <td>276.8200</td>\n",
       "      <td>4097</td>\n",
       "      <td>669</td>\n",
       "      <td>1</td>\n",
       "      <td>1</td>\n",
       "      <td>1</td>\n",
       "      <td>3</td>\n",
       "      <td>1</td>\n",
       "    </tr>\n",
       "    <tr>\n",
       "      <th>2</th>\n",
       "      <td>595</td>\n",
       "      <td>19.833333</td>\n",
       "      <td>392.7900</td>\n",
       "      <td>3258</td>\n",
       "      <td>1540</td>\n",
       "      <td>1</td>\n",
       "      <td>1</td>\n",
       "      <td>1</td>\n",
       "      <td>3</td>\n",
       "      <td>1</td>\n",
       "    </tr>\n",
       "    <tr>\n",
       "      <th>3</th>\n",
       "      <td>212</td>\n",
       "      <td>7.066667</td>\n",
       "      <td>2609.2800</td>\n",
       "      <td>27996</td>\n",
       "      <td>8520</td>\n",
       "      <td>1</td>\n",
       "      <td>1</td>\n",
       "      <td>1</td>\n",
       "      <td>3</td>\n",
       "      <td>2</td>\n",
       "    </tr>\n",
       "    <tr>\n",
       "      <th>4</th>\n",
       "      <td>2252</td>\n",
       "      <td>75.066667</td>\n",
       "      <td>231.5012</td>\n",
       "      <td>10344</td>\n",
       "      <td>1345</td>\n",
       "      <td>3</td>\n",
       "      <td>1</td>\n",
       "      <td>1</td>\n",
       "      <td>3</td>\n",
       "      <td>2</td>\n",
       "    </tr>\n",
       "  </tbody>\n",
       "</table>\n",
       "</div>"
      ],
      "text/plain": [
       "   network_age  Customer tenure in month  \\\n",
       "0         1251                 41.700000   \n",
       "1          628                 20.933333   \n",
       "2          595                 19.833333   \n",
       "3          212                  7.066667   \n",
       "4         2252                 75.066667   \n",
       "\n",
       "   Total Spend in Months 1 and 2 of 2017  Total Onnet spend   \\\n",
       "0                               514.8840                 708   \n",
       "1                               276.8200                4097   \n",
       "2                               392.7900                3258   \n",
       "3                              2609.2800               27996   \n",
       "4                               231.5012               10344   \n",
       "\n",
       "   Total Offnet spend  Total Call centre complaint calls  \\\n",
       "0               38807                                  1   \n",
       "1                 669                                  1   \n",
       "2                1540                                  1   \n",
       "3                8520                                  1   \n",
       "4                1345                                  3   \n",
       "\n",
       "   Network type subscription in Month 1  Network type subscription in Month 2  \\\n",
       "0                                     1                                     1   \n",
       "1                                     1                                     1   \n",
       "2                                     1                                     1   \n",
       "3                                     1                                     1   \n",
       "4                                     1                                     1   \n",
       "\n",
       "   Most Loved Competitor network in in Month 1  \\\n",
       "0                                            3   \n",
       "1                                            3   \n",
       "2                                            3   \n",
       "3                                            3   \n",
       "4                                            3   \n",
       "\n",
       "   Most Loved Competitor network in in Month 2  \n",
       "0                                            1  \n",
       "1                                            1  \n",
       "2                                            1  \n",
       "3                                            2  \n",
       "4                                            2  "
      ]
     },
     "execution_count": 138,
     "metadata": {},
     "output_type": "execute_result"
    }
   ],
   "source": [
    "df_test.head()"
   ]
  },
  {
   "cell_type": "code",
   "execution_count": 144,
   "metadata": {},
   "outputs": [
    {
     "data": {
      "text/html": [
       "<div>\n",
       "<style scoped>\n",
       "    .dataframe tbody tr th:only-of-type {\n",
       "        vertical-align: middle;\n",
       "    }\n",
       "\n",
       "    .dataframe tbody tr th {\n",
       "        vertical-align: top;\n",
       "    }\n",
       "\n",
       "    .dataframe thead th {\n",
       "        text-align: right;\n",
       "    }\n",
       "</style>\n",
       "<table border=\"1\" class=\"dataframe\">\n",
       "  <thead>\n",
       "    <tr style=\"text-align: right;\">\n",
       "      <th></th>\n",
       "      <th>Customer ID</th>\n",
       "    </tr>\n",
       "  </thead>\n",
       "  <tbody>\n",
       "    <tr>\n",
       "      <th>0</th>\n",
       "      <td>ADF0030</td>\n",
       "    </tr>\n",
       "    <tr>\n",
       "      <th>1</th>\n",
       "      <td>ADF0172</td>\n",
       "    </tr>\n",
       "    <tr>\n",
       "      <th>2</th>\n",
       "      <td>ADF0205</td>\n",
       "    </tr>\n",
       "    <tr>\n",
       "      <th>3</th>\n",
       "      <td>ADF0876</td>\n",
       "    </tr>\n",
       "    <tr>\n",
       "      <th>4</th>\n",
       "      <td>ADF0909</td>\n",
       "    </tr>\n",
       "    <tr>\n",
       "      <th>5</th>\n",
       "      <td>ADF0916</td>\n",
       "    </tr>\n",
       "    <tr>\n",
       "      <th>6</th>\n",
       "      <td>ADF0920</td>\n",
       "    </tr>\n",
       "    <tr>\n",
       "      <th>7</th>\n",
       "      <td>ADF0922</td>\n",
       "    </tr>\n",
       "    <tr>\n",
       "      <th>8</th>\n",
       "      <td>ADF0964</td>\n",
       "    </tr>\n",
       "    <tr>\n",
       "      <th>9</th>\n",
       "      <td>ADF0009</td>\n",
       "    </tr>\n",
       "    <tr>\n",
       "      <th>10</th>\n",
       "      <td>ADF0021</td>\n",
       "    </tr>\n",
       "    <tr>\n",
       "      <th>11</th>\n",
       "      <td>ADF0018</td>\n",
       "    </tr>\n",
       "    <tr>\n",
       "      <th>12</th>\n",
       "      <td>ADF0037</td>\n",
       "    </tr>\n",
       "    <tr>\n",
       "      <th>13</th>\n",
       "      <td>ADF0144</td>\n",
       "    </tr>\n",
       "    <tr>\n",
       "      <th>14</th>\n",
       "      <td>ADF0157</td>\n",
       "    </tr>\n",
       "    <tr>\n",
       "      <th>15</th>\n",
       "      <td>ADF0204</td>\n",
       "    </tr>\n",
       "    <tr>\n",
       "      <th>16</th>\n",
       "      <td>ADF0245</td>\n",
       "    </tr>\n",
       "    <tr>\n",
       "      <th>17</th>\n",
       "      <td>ADF0253</td>\n",
       "    </tr>\n",
       "    <tr>\n",
       "      <th>18</th>\n",
       "      <td>ADF0775</td>\n",
       "    </tr>\n",
       "    <tr>\n",
       "      <th>19</th>\n",
       "      <td>ADF0791</td>\n",
       "    </tr>\n",
       "    <tr>\n",
       "      <th>20</th>\n",
       "      <td>ADF0870</td>\n",
       "    </tr>\n",
       "    <tr>\n",
       "      <th>21</th>\n",
       "      <td>ADF0872</td>\n",
       "    </tr>\n",
       "    <tr>\n",
       "      <th>22</th>\n",
       "      <td>ADF0884</td>\n",
       "    </tr>\n",
       "    <tr>\n",
       "      <th>23</th>\n",
       "      <td>ADF0898</td>\n",
       "    </tr>\n",
       "    <tr>\n",
       "      <th>24</th>\n",
       "      <td>ADF0903</td>\n",
       "    </tr>\n",
       "    <tr>\n",
       "      <th>25</th>\n",
       "      <td>ADF0949</td>\n",
       "    </tr>\n",
       "    <tr>\n",
       "      <th>26</th>\n",
       "      <td>ADF0893</td>\n",
       "    </tr>\n",
       "    <tr>\n",
       "      <th>27</th>\n",
       "      <td>ADF0785</td>\n",
       "    </tr>\n",
       "    <tr>\n",
       "      <th>28</th>\n",
       "      <td>ADF0795</td>\n",
       "    </tr>\n",
       "    <tr>\n",
       "      <th>29</th>\n",
       "      <td>ADF0799</td>\n",
       "    </tr>\n",
       "    <tr>\n",
       "      <th>...</th>\n",
       "      <td>...</td>\n",
       "    </tr>\n",
       "    <tr>\n",
       "      <th>570</th>\n",
       "      <td>ADF0959</td>\n",
       "    </tr>\n",
       "    <tr>\n",
       "      <th>571</th>\n",
       "      <td>ADF0839</td>\n",
       "    </tr>\n",
       "    <tr>\n",
       "      <th>572</th>\n",
       "      <td>ADF0926</td>\n",
       "    </tr>\n",
       "    <tr>\n",
       "      <th>573</th>\n",
       "      <td>ADF0695</td>\n",
       "    </tr>\n",
       "    <tr>\n",
       "      <th>574</th>\n",
       "      <td>ADF0707</td>\n",
       "    </tr>\n",
       "    <tr>\n",
       "      <th>575</th>\n",
       "      <td>ADF0674</td>\n",
       "    </tr>\n",
       "    <tr>\n",
       "      <th>576</th>\n",
       "      <td>ADF0763</td>\n",
       "    </tr>\n",
       "    <tr>\n",
       "      <th>577</th>\n",
       "      <td>ADF0820</td>\n",
       "    </tr>\n",
       "    <tr>\n",
       "      <th>578</th>\n",
       "      <td>ADF1945</td>\n",
       "    </tr>\n",
       "    <tr>\n",
       "      <th>579</th>\n",
       "      <td>ADF0183</td>\n",
       "    </tr>\n",
       "    <tr>\n",
       "      <th>580</th>\n",
       "      <td>ADF0188</td>\n",
       "    </tr>\n",
       "    <tr>\n",
       "      <th>581</th>\n",
       "      <td>ADF0651</td>\n",
       "    </tr>\n",
       "    <tr>\n",
       "      <th>582</th>\n",
       "      <td>ADF0676</td>\n",
       "    </tr>\n",
       "    <tr>\n",
       "      <th>583</th>\n",
       "      <td>ADF0681</td>\n",
       "    </tr>\n",
       "    <tr>\n",
       "      <th>584</th>\n",
       "      <td>ADF0682</td>\n",
       "    </tr>\n",
       "    <tr>\n",
       "      <th>585</th>\n",
       "      <td>ADF0690</td>\n",
       "    </tr>\n",
       "    <tr>\n",
       "      <th>586</th>\n",
       "      <td>ADF0706</td>\n",
       "    </tr>\n",
       "    <tr>\n",
       "      <th>587</th>\n",
       "      <td>ADF0709</td>\n",
       "    </tr>\n",
       "    <tr>\n",
       "      <th>588</th>\n",
       "      <td>ADF0713</td>\n",
       "    </tr>\n",
       "    <tr>\n",
       "      <th>589</th>\n",
       "      <td>ADF0724</td>\n",
       "    </tr>\n",
       "    <tr>\n",
       "      <th>590</th>\n",
       "      <td>ADF0736</td>\n",
       "    </tr>\n",
       "    <tr>\n",
       "      <th>591</th>\n",
       "      <td>ADF0745</td>\n",
       "    </tr>\n",
       "    <tr>\n",
       "      <th>592</th>\n",
       "      <td>ADF0758</td>\n",
       "    </tr>\n",
       "    <tr>\n",
       "      <th>593</th>\n",
       "      <td>ADF1872</td>\n",
       "    </tr>\n",
       "    <tr>\n",
       "      <th>594</th>\n",
       "      <td>ADF1877</td>\n",
       "    </tr>\n",
       "    <tr>\n",
       "      <th>595</th>\n",
       "      <td>ADF1932</td>\n",
       "    </tr>\n",
       "    <tr>\n",
       "      <th>596</th>\n",
       "      <td>ADF0772</td>\n",
       "    </tr>\n",
       "    <tr>\n",
       "      <th>597</th>\n",
       "      <td>ADF0919</td>\n",
       "    </tr>\n",
       "    <tr>\n",
       "      <th>598</th>\n",
       "      <td>ADF0729</td>\n",
       "    </tr>\n",
       "    <tr>\n",
       "      <th>599</th>\n",
       "      <td>ADF0703</td>\n",
       "    </tr>\n",
       "  </tbody>\n",
       "</table>\n",
       "<p>600 rows × 1 columns</p>\n",
       "</div>"
      ],
      "text/plain": [
       "    Customer ID\n",
       "0       ADF0030\n",
       "1       ADF0172\n",
       "2       ADF0205\n",
       "3       ADF0876\n",
       "4       ADF0909\n",
       "5       ADF0916\n",
       "6       ADF0920\n",
       "7       ADF0922\n",
       "8       ADF0964\n",
       "9       ADF0009\n",
       "10      ADF0021\n",
       "11      ADF0018\n",
       "12      ADF0037\n",
       "13      ADF0144\n",
       "14      ADF0157\n",
       "15      ADF0204\n",
       "16      ADF0245\n",
       "17      ADF0253\n",
       "18      ADF0775\n",
       "19      ADF0791\n",
       "20      ADF0870\n",
       "21      ADF0872\n",
       "22      ADF0884\n",
       "23      ADF0898\n",
       "24      ADF0903\n",
       "25      ADF0949\n",
       "26      ADF0893\n",
       "27      ADF0785\n",
       "28      ADF0795\n",
       "29      ADF0799\n",
       "..          ...\n",
       "570     ADF0959\n",
       "571     ADF0839\n",
       "572     ADF0926\n",
       "573     ADF0695\n",
       "574     ADF0707\n",
       "575     ADF0674\n",
       "576     ADF0763\n",
       "577     ADF0820\n",
       "578     ADF1945\n",
       "579     ADF0183\n",
       "580     ADF0188\n",
       "581     ADF0651\n",
       "582     ADF0676\n",
       "583     ADF0681\n",
       "584     ADF0682\n",
       "585     ADF0690\n",
       "586     ADF0706\n",
       "587     ADF0709\n",
       "588     ADF0713\n",
       "589     ADF0724\n",
       "590     ADF0736\n",
       "591     ADF0745\n",
       "592     ADF0758\n",
       "593     ADF1872\n",
       "594     ADF1877\n",
       "595     ADF1932\n",
       "596     ADF0772\n",
       "597     ADF0919\n",
       "598     ADF0729\n",
       "599     ADF0703\n",
       "\n",
       "[600 rows x 1 columns]"
      ]
     },
     "execution_count": 144,
     "metadata": {},
     "output_type": "execute_result"
    }
   ],
   "source": [
    "cust = mydf.filter([\"Customer ID\"])\n",
    "cust"
   ]
  },
  {
   "cell_type": "code",
   "execution_count": 149,
   "metadata": {},
   "outputs": [
    {
     "ename": "AttributeError",
     "evalue": "'DataFrame' object has no attribute 'fit_transform'",
     "output_type": "error",
     "traceback": [
      "\u001b[1;31m---------------------------------------------------------------------------\u001b[0m",
      "\u001b[1;31mAttributeError\u001b[0m                            Traceback (most recent call last)",
      "\u001b[1;32m<ipython-input-149-7f2abc33b0f4>\u001b[0m in \u001b[0;36m<module>\u001b[1;34m()\u001b[0m\n\u001b[1;32m----> 1\u001b[1;33m \u001b[0mfeatures_test\u001b[0m \u001b[1;33m=\u001b[0m \u001b[0mfeatures_test\u001b[0m\u001b[1;33m.\u001b[0m\u001b[0mfit_transform\u001b[0m\u001b[1;33m(\u001b[0m\u001b[0mfeatures_test\u001b[0m\u001b[1;33m)\u001b[0m\u001b[1;33m\u001b[0m\u001b[0m\n\u001b[0m\u001b[0;32m      2\u001b[0m \u001b[1;33m\u001b[0m\u001b[0m\n\u001b[0;32m      3\u001b[0m \u001b[0mfeatures_test\u001b[0m \u001b[1;33m=\u001b[0m \u001b[0mpd\u001b[0m\u001b[1;33m.\u001b[0m\u001b[0mDataFrame\u001b[0m\u001b[1;33m(\u001b[0m\u001b[0mfeatures_test\u001b[0m\u001b[1;33m)\u001b[0m\u001b[1;33m\u001b[0m\u001b[0m\n",
      "\u001b[1;32m~\\Anaconda3\\lib\\site-packages\\pandas\\core\\generic.py\u001b[0m in \u001b[0;36m__getattr__\u001b[1;34m(self, name)\u001b[0m\n\u001b[0;32m   3612\u001b[0m             \u001b[1;32mif\u001b[0m \u001b[0mname\u001b[0m \u001b[1;32min\u001b[0m \u001b[0mself\u001b[0m\u001b[1;33m.\u001b[0m\u001b[0m_info_axis\u001b[0m\u001b[1;33m:\u001b[0m\u001b[1;33m\u001b[0m\u001b[0m\n\u001b[0;32m   3613\u001b[0m                 \u001b[1;32mreturn\u001b[0m \u001b[0mself\u001b[0m\u001b[1;33m[\u001b[0m\u001b[0mname\u001b[0m\u001b[1;33m]\u001b[0m\u001b[1;33m\u001b[0m\u001b[0m\n\u001b[1;32m-> 3614\u001b[1;33m             \u001b[1;32mreturn\u001b[0m \u001b[0mobject\u001b[0m\u001b[1;33m.\u001b[0m\u001b[0m__getattribute__\u001b[0m\u001b[1;33m(\u001b[0m\u001b[0mself\u001b[0m\u001b[1;33m,\u001b[0m \u001b[0mname\u001b[0m\u001b[1;33m)\u001b[0m\u001b[1;33m\u001b[0m\u001b[0m\n\u001b[0m\u001b[0;32m   3615\u001b[0m \u001b[1;33m\u001b[0m\u001b[0m\n\u001b[0;32m   3616\u001b[0m     \u001b[1;32mdef\u001b[0m \u001b[0m__setattr__\u001b[0m\u001b[1;33m(\u001b[0m\u001b[0mself\u001b[0m\u001b[1;33m,\u001b[0m \u001b[0mname\u001b[0m\u001b[1;33m,\u001b[0m \u001b[0mvalue\u001b[0m\u001b[1;33m)\u001b[0m\u001b[1;33m:\u001b[0m\u001b[1;33m\u001b[0m\u001b[0m\n",
      "\u001b[1;31mAttributeError\u001b[0m: 'DataFrame' object has no attribute 'fit_transform'"
     ]
    }
   ],
   "source": [
    "features_test = features_test.fit_transform(features_test)\n",
    "\n",
    "features_test = pd.DataFrame(features_test)"
   ]
  },
  {
   "cell_type": "code",
   "execution_count": 147,
   "metadata": {},
   "outputs": [
    {
     "ename": "ValueError",
     "evalue": "Number of features of the model must match the input. Model n_features is 10 and input n_features is 14 ",
     "output_type": "error",
     "traceback": [
      "\u001b[1;31m---------------------------------------------------------------------------\u001b[0m",
      "\u001b[1;31mValueError\u001b[0m                                Traceback (most recent call last)",
      "\u001b[1;32m<ipython-input-147-a2aa3f85434d>\u001b[0m in \u001b[0;36m<module>\u001b[1;34m()\u001b[0m\n\u001b[1;32m----> 1\u001b[1;33m \u001b[0mresult\u001b[0m \u001b[1;33m=\u001b[0m \u001b[0mpd\u001b[0m\u001b[1;33m.\u001b[0m\u001b[0mDataFrame\u001b[0m\u001b[1;33m(\u001b[0m\u001b[0mclf\u001b[0m\u001b[1;33m.\u001b[0m\u001b[0mpredict\u001b[0m\u001b[1;33m(\u001b[0m\u001b[0mfeatures_test\u001b[0m\u001b[1;33m)\u001b[0m\u001b[1;33m)\u001b[0m\u001b[1;33m\u001b[0m\u001b[0m\n\u001b[0m",
      "\u001b[1;32m~\\Anaconda3\\lib\\site-packages\\sklearn\\ensemble\\forest.py\u001b[0m in \u001b[0;36mpredict\u001b[1;34m(self, X)\u001b[0m\n\u001b[0;32m    536\u001b[0m             \u001b[0mThe\u001b[0m \u001b[0mpredicted\u001b[0m \u001b[0mclasses\u001b[0m\u001b[1;33m.\u001b[0m\u001b[1;33m\u001b[0m\u001b[0m\n\u001b[0;32m    537\u001b[0m         \"\"\"\n\u001b[1;32m--> 538\u001b[1;33m         \u001b[0mproba\u001b[0m \u001b[1;33m=\u001b[0m \u001b[0mself\u001b[0m\u001b[1;33m.\u001b[0m\u001b[0mpredict_proba\u001b[0m\u001b[1;33m(\u001b[0m\u001b[0mX\u001b[0m\u001b[1;33m)\u001b[0m\u001b[1;33m\u001b[0m\u001b[0m\n\u001b[0m\u001b[0;32m    539\u001b[0m \u001b[1;33m\u001b[0m\u001b[0m\n\u001b[0;32m    540\u001b[0m         \u001b[1;32mif\u001b[0m \u001b[0mself\u001b[0m\u001b[1;33m.\u001b[0m\u001b[0mn_outputs_\u001b[0m \u001b[1;33m==\u001b[0m \u001b[1;36m1\u001b[0m\u001b[1;33m:\u001b[0m\u001b[1;33m\u001b[0m\u001b[0m\n",
      "\u001b[1;32m~\\Anaconda3\\lib\\site-packages\\sklearn\\ensemble\\forest.py\u001b[0m in \u001b[0;36mpredict_proba\u001b[1;34m(self, X)\u001b[0m\n\u001b[0;32m    576\u001b[0m         \u001b[0mcheck_is_fitted\u001b[0m\u001b[1;33m(\u001b[0m\u001b[0mself\u001b[0m\u001b[1;33m,\u001b[0m \u001b[1;34m'estimators_'\u001b[0m\u001b[1;33m)\u001b[0m\u001b[1;33m\u001b[0m\u001b[0m\n\u001b[0;32m    577\u001b[0m         \u001b[1;31m# Check data\u001b[0m\u001b[1;33m\u001b[0m\u001b[1;33m\u001b[0m\u001b[0m\n\u001b[1;32m--> 578\u001b[1;33m         \u001b[0mX\u001b[0m \u001b[1;33m=\u001b[0m \u001b[0mself\u001b[0m\u001b[1;33m.\u001b[0m\u001b[0m_validate_X_predict\u001b[0m\u001b[1;33m(\u001b[0m\u001b[0mX\u001b[0m\u001b[1;33m)\u001b[0m\u001b[1;33m\u001b[0m\u001b[0m\n\u001b[0m\u001b[0;32m    579\u001b[0m \u001b[1;33m\u001b[0m\u001b[0m\n\u001b[0;32m    580\u001b[0m         \u001b[1;31m# Assign chunk of trees to jobs\u001b[0m\u001b[1;33m\u001b[0m\u001b[1;33m\u001b[0m\u001b[0m\n",
      "\u001b[1;32m~\\Anaconda3\\lib\\site-packages\\sklearn\\ensemble\\forest.py\u001b[0m in \u001b[0;36m_validate_X_predict\u001b[1;34m(self, X)\u001b[0m\n\u001b[0;32m    355\u001b[0m                                  \"call `fit` before exploiting the model.\")\n\u001b[0;32m    356\u001b[0m \u001b[1;33m\u001b[0m\u001b[0m\n\u001b[1;32m--> 357\u001b[1;33m         \u001b[1;32mreturn\u001b[0m \u001b[0mself\u001b[0m\u001b[1;33m.\u001b[0m\u001b[0mestimators_\u001b[0m\u001b[1;33m[\u001b[0m\u001b[1;36m0\u001b[0m\u001b[1;33m]\u001b[0m\u001b[1;33m.\u001b[0m\u001b[0m_validate_X_predict\u001b[0m\u001b[1;33m(\u001b[0m\u001b[0mX\u001b[0m\u001b[1;33m,\u001b[0m \u001b[0mcheck_input\u001b[0m\u001b[1;33m=\u001b[0m\u001b[1;32mTrue\u001b[0m\u001b[1;33m)\u001b[0m\u001b[1;33m\u001b[0m\u001b[0m\n\u001b[0m\u001b[0;32m    358\u001b[0m \u001b[1;33m\u001b[0m\u001b[0m\n\u001b[0;32m    359\u001b[0m     \u001b[1;33m@\u001b[0m\u001b[0mproperty\u001b[0m\u001b[1;33m\u001b[0m\u001b[0m\n",
      "\u001b[1;32m~\\Anaconda3\\lib\\site-packages\\sklearn\\tree\\tree.py\u001b[0m in \u001b[0;36m_validate_X_predict\u001b[1;34m(self, X, check_input)\u001b[0m\n\u001b[0;32m    382\u001b[0m                              \u001b[1;34m\"match the input. Model n_features is %s and \"\u001b[0m\u001b[1;33m\u001b[0m\u001b[0m\n\u001b[0;32m    383\u001b[0m                              \u001b[1;34m\"input n_features is %s \"\u001b[0m\u001b[1;33m\u001b[0m\u001b[0m\n\u001b[1;32m--> 384\u001b[1;33m                              % (self.n_features_, n_features))\n\u001b[0m\u001b[0;32m    385\u001b[0m \u001b[1;33m\u001b[0m\u001b[0m\n\u001b[0;32m    386\u001b[0m         \u001b[1;32mreturn\u001b[0m \u001b[0mX\u001b[0m\u001b[1;33m\u001b[0m\u001b[0m\n",
      "\u001b[1;31mValueError\u001b[0m: Number of features of the model must match the input. Model n_features is 10 and input n_features is 14 "
     ]
    }
   ],
   "source": [
    "result = pd.DataFrame(clf.predict(features_test))"
   ]
  },
  {
   "cell_type": "code",
   "execution_count": null,
   "metadata": {},
   "outputs": [],
   "source": []
  }
 ],
 "metadata": {
  "kernelspec": {
   "display_name": "Python 3",
   "language": "python",
   "name": "python3"
  },
  "language_info": {
   "codemirror_mode": {
    "name": "ipython",
    "version": 3
   },
   "file_extension": ".py",
   "mimetype": "text/x-python",
   "name": "python",
   "nbconvert_exporter": "python",
   "pygments_lexer": "ipython3",
   "version": "3.7.3"
  }
 },
 "nbformat": 4,
 "nbformat_minor": 2
}
